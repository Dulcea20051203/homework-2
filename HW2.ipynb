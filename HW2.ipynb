{
 "cells": [
  {
   "cell_type": "code",
   "execution_count": null,
   "id": "c17e806b",
   "metadata": {},
   "outputs": [],
   "source": [
    "#Question 2\n",
    "\n",
    "import numpy as np\n",
    "\n",
    "# Set up parameters\n",
    "reps = 100000  # number of repetitions\n",
    "wins = 0       # counter for wins\n",
    "\n",
    "# Simulate the Monty Hall problem\n",
    "for _ in range(reps):\n",
    "    winning_door = np.random.choice([1, 2, 3])  # Randomly select the winning door\n",
    "    player_choice = np.random.choice([1, 2, 3])  # Player's initial choice of door\n",
    "    \n",
    "    # Player swaps doors\n",
    "    remaining_doors = [door for door in [1, 2, 3] if door != player_choice and door != winning_door]\n",
    "    monty_reveal = np.random.choice(remaining_doors)  # Monty reveals a goat door\n",
    "    swapped_choice = [door for door in [1, 2, 3] if door != player_choice and door != monty_reveal][0]\n",
    "    \n",
    "    # Check if the player wins after swapping\n",
    "    if swapped_choice == winning_door:\n",
    "        wins += 1\n",
    "\n",
    "# Calculate the probability of winning by swapping\n",
    "win_probability = wins / reps\n",
    "print(f\"Probability of winning by swapping: {win_probability:.4f}\")\n"
   ]
  },
  {
   "cell_type": "code",
   "execution_count": null,
   "id": "c23dff30",
   "metadata": {},
   "outputs": [],
   "source": [
    "#Question 3\n",
    "\n",
    "# Importing necessary libraries\n",
    "# from collections import defaultdict\n",
    "\n",
    "# Initializing two dictionaries to store counts and next-word relationships\n",
    "word_used = dict()  # Initially tried to use defaultdict(int), but here a regular dictionary is used\n",
    "next_word = dict()  # Initially tried to use defaultdict(lambda: defaultdict(int)), but here a regular dictionary is used\n",
    "\n",
    "# Loop through each word in the list of words, except the last one\n",
    "for i, word in enumerate(words[:-1]):\n",
    "    # Check if the word is already in the word_used dictionary\n",
    "    if word in word_used:\n",
    "        # If it is, increment its count\n",
    "        word_used[word] += 1\n",
    "    else:\n",
    "        # If it's not, initialize its count to 1\n",
    "        word_used[word] = 1\n",
    "        # Also initialize an empty dictionary for this word in next_word dictionary\n",
    "        next_word[word] = {}\n",
    "\n",
    "    # Check if the next word (words[i+1]) already exists as a key in the nested dictionary of next_word[word]\n",
    "    if words[i+1] in next_word[word]:\n",
    "        # If it does, increment the count of this next word\n",
    "        next_word[word][words[i+1]] += 1\n",
    "    else:\n",
    "        # If it doesn't exist, initialize its count to 1\n",
    "        next_word[word][words[i+1]] = 1\n"
   ]
  },
  {
   "cell_type": "code",
   "execution_count": null,
   "id": "4417b318",
   "metadata": {},
   "outputs": [],
   "source": [
    "#Question 3\n",
    "\n",
    "# Importing necessary libraries\n",
    "# from collections import defaultdict\n",
    "\n",
    "# Initializing two dictionaries to store counts and next-word relationships\n",
    "word_used = dict()  # Initially tried to use defaultdict(int), but here a regular dictionary is used\n",
    "next_word = dict()  # Initially tried to use defaultdict(lambda: defaultdict(int)), but here a regular dictionary is used\n",
    "\n",
    "# Loop through each word in the list of words, except the last one\n",
    "for i, word in enumerate(words[:-1]):\n",
    "    # Check if the word is already in the word_used dictionary\n",
    "    if word in word_used:\n",
    "        # If it is, increment its count\n",
    "        word_used[word] += 1\n",
    "    else:\n",
    "        # If it's not, initialize its count to 1\n",
    "        word_used[word] = 1\n",
    "        # Also initialize an empty dictionary for this word in next_word dictionary\n",
    "        next_word[word] = {}\n",
    "\n",
    "    # Check if the next word (words[i+1]) already exists as a key in the nested dictionary of next_word[word]\n",
    "    if words[i+1] in next_word[word]:\n",
    "        # If it does, increment the count of this next word\n",
    "        next_word[word][words[i+1]] += 1\n",
    "    else:\n",
    "        # If it doesn't exist, initialize its count to 1\n",
    "        next_word[word][words[i+1]] = 1\n"
   ]
  },
  {
   "cell_type": "code",
   "execution_count": null,
   "id": "b2466e56",
   "metadata": {},
   "outputs": [],
   "source": [
    "#Question 3\n",
    "\n",
    "# Importing necessary libraries\n",
    "# from collections import defaultdict\n",
    "\n",
    "# Initializing two dictionaries to store counts and next-word relationships\n",
    "word_used = dict()  # Initially tried to use defaultdict(int), but here a regular dictionary is used\n",
    "next_word = dict()  # Initially tried to use defaultdict(lambda: defaultdict(int)), but here a regular dictionary is used\n",
    "\n",
    "# Loop through each word in the list of words, except the last one\n",
    "for i, word in enumerate(words[:-1]):\n",
    "    # Check if the word is already in the word_used dictionary\n",
    "    if word in word_used:\n",
    "        # If it is, increment its count\n",
    "        word_used[word] += 1\n",
    "    else:\n",
    "        # If it's not, initialize its count to 1\n",
    "        word_used[word] = 1\n",
    "        # Also initialize an empty dictionary for this word in next_word dictionary\n",
    "        next_word[word] = {}\n",
    "\n",
    "    # Check if the next word (words[i+1]) already exists as a key in the nested dictionary of next_word[word]\n",
    "    if words[i+1] in next_word[word]:\n",
    "        # If it does, increment the count of this next word\n",
    "        next_word[word][words[i+1]] += 1\n",
    "    else:\n",
    "        # If it doesn't exist, initialize its count to 1\n",
    "        next_word[word][words[i+1]] = 1\n"
   ]
  },
  {
   "cell_type": "code",
   "execution_count": null,
   "id": "36add397",
   "metadata": {},
   "outputs": [],
   "source": [
    "#Question 3\n",
    "\n",
    "# Importing necessary libraries\n",
    "# from collections import defaultdict\n",
    "\n",
    "# Initializing two dictionaries to store counts and next-word relationships\n",
    "word_used = dict()  # Initially tried to use defaultdict(int), but here a regular dictionary is used\n",
    "next_word = dict()  # Initially tried to use defaultdict(lambda: defaultdict(int)), but here a regular dictionary is used\n",
    "\n",
    "# Loop through each word in the list of words, except the last one\n",
    "for i, word in enumerate(words[:-1]):\n",
    "    # Check if the word is already in the word_used dictionary\n",
    "    if word in word_used:\n",
    "        # If it is, increment its count\n",
    "        word_used[word] += 1\n",
    "    else:\n",
    "        # If it's not, initialize its count to 1\n",
    "        word_used[word] = 1\n",
    "        # Also initialize an empty dictionary for this word in next_word dictionary\n",
    "        next_word[word] = {}\n",
    "\n",
    "    # Check if the next word (words[i+1]) already exists as a key in the nested dictionary of next_word[word]\n",
    "    if words[i+1] in next_word[word]:\n",
    "        # If it does, increment the count of this next word\n",
    "        next_word[word][words[i+1]] += 1\n",
    "    else:\n",
    "        # If it doesn't exist, initialize its count to 1\n",
    "        next_word[word][words[i+1]] = 1\n"
   ]
  },
  {
   "cell_type": "code",
   "execution_count": null,
   "id": "ab9a763b",
   "metadata": {},
   "outputs": [],
   "source": [
    "#Question 3\n",
    "\n",
    "# Importing necessary libraries\n",
    "# from collections import defaultdict\n",
    "\n",
    "# Initializing two dictionaries to store counts and next-word relationships\n",
    "word_used = dict()  # Initially tried to use defaultdict(int), but here a regular dictionary is used\n",
    "next_word = dict()  # Initially tried to use defaultdict(lambda: defaultdict(int)), but here a regular dictionary is used\n",
    "\n",
    "# Loop through each word in the list of words, except the last one\n",
    "for i, word in enumerate(words[:-1]):\n",
    "    # Check if the word is already in the word_used dictionary\n",
    "    if word in word_used:\n",
    "        # If it is, increment its count\n",
    "        word_used[word] += 1\n",
    "    else:\n",
    "        # If it's not, initialize its count to 1\n",
    "        word_used[word] = 1\n",
    "        # Also initialize an empty dictionary for this word in next_word dictionary\n",
    "        next_word[word] = {}\n",
    "\n",
    "    # Check if the next word (words[i+1]) already exists as a key in the nested dictionary of next_word[word]\n",
    "    if words[i+1] in next_word[word]:\n",
    "        # If it does, increment the count of this next word\n",
    "        next_word[word][words[i+1]] += 1\n",
    "    else:\n",
    "        # If it doesn't exist, initialize its count to 1\n",
    "        next_word[word][words[i+1]] = 1\n"
   ]
  },
  {
   "cell_type": "markdown",
   "id": "c4821270",
   "metadata": {},
   "source": [
    "#Question 2\n",
    "\n",
    "First of all, some of the initial Settings are different, and in the code given by the chatbot, the player can make many different and random choices, which adds interest to the final result of the game. At the same time, the overall steps of the new code are more concise. In the steps of goat door, the player needs to remove different doors one by one, but the new code directly lists the remaining doors and then selects goat door from the remaining doors."
   ]
  },
  {
   "cell_type": "code",
   "execution_count": null,
   "id": "6e9bfaf8",
   "metadata": {},
   "outputs": [],
   "source": [
    "#Summary for my chatbot (From question one to question two)\n",
    "\n",
    "https://chatgpt.com/share/66eb86a7-c464-800b-ab7a-772e02860a90"
   ]
  },
  {
   "cell_type": "code",
   "execution_count": 1,
   "id": "b94c938b",
   "metadata": {},
   "outputs": [
    {
     "data": {
      "text/plain": [
       "0.66675"
      ]
     },
     "execution_count": 1,
     "metadata": {},
     "output_type": "execute_result"
    }
   ],
   "source": [
    "import numpy as np\n",
    "all_door_options = (1,2,3)  # Tuple representing the three doors.\n",
    "\n",
    "my_door_choice = 1  # Initially choosing door number 1. This could be any door (1, 2, or 3).\n",
    "i_won = 0  # Counter for tracking the number of wins.\n",
    "reps = 100000  # Number of simulations to run.\n",
    "\n",
    "for i in range(reps):  # Loop through each simulation.\n",
    "    secret_winning_door = np.random.choice(all_door_options)  # Randomly choose the door with the prize behind it.\n",
    "    all_door_options_list = list(all_door_options)  # Convert the tuple of doors to a list for manipulation.\n",
    "    all_door_options_list.remove(secret_winning_door)  # Remove the winning door from the list temporarily.\n",
    "\n",
    "    try:\n",
    "        all_door_options_list.remove(my_door_choice)  # Try to remove the initially chosen door from the list.\n",
    "    except:\n",
    "        pass  # If the chosen door is the winning door, it's already removed, so pass.\n",
    "\n",
    "    goat_door_reveal = np.random.choice(all_door_options_list)  # Reveal a door that does not have the prize (a \"goat\" door).\n",
    "    all_door_options_list.remove(goat_door_reveal)  # Remove the revealed \"goat\" door from the list.\n",
    "\n",
    "    if secret_winning_door != my_door_choice:\n",
    "        all_door_options_list.append(secret_winning_door)  # If the winning door was not the initial choice, add it back to the list.\n",
    "\n",
    "    # Swapping strategy: change the choice to the remaining door.\n",
    "    my_door_choice = all_door_options_list[0]  # Set the current choice to the only door left in the list.\n",
    "\n",
    "    if my_door_choice == secret_winning_door:\n",
    "        i_won += 1  # If the new choice is the winning door, increment the win counter.\n",
    "\n",
    "i_won / reps  # Calculate the proportion of wins after all simulations.\n"
   ]
  },
  {
   "cell_type": "code",
   "execution_count": null,
   "id": "52b3138f",
   "metadata": {},
   "outputs": [],
   "source": [
    "#Summary for my chatbot\n",
    "\n",
    "https://chatgpt.com/share/66eb9e0e-cfdc-800b-8bad-84363ecd9218"
   ]
  },
  {
   "cell_type": "code",
   "execution_count": 10,
   "id": "daf8ce01",
   "metadata": {},
   "outputs": [
    {
     "name": "stdout",
     "output_type": "stream",
     "text": [
      "hello there this is a simple example to demonstrate a markovian\n"
     ]
    }
   ],
   "source": [
    "#Question 4\n",
    "\n",
    "from collections import defaultdict\n",
    "import random\n",
    "\n",
    "# Example text input broken into words\n",
    "text = \"Hello world, hello there. This is a simple example to demonstrate a Markovian ChatBot.\"\n",
    "words = text.lower().replace(\",\", \"\").replace(\".\", \"\").split()\n",
    "\n",
    "# Using defaultdict to simplify the code\n",
    "word_used = defaultdict(int)\n",
    "next_word = defaultdict(lambda: defaultdict(int))\n",
    "\n",
    "# Building the Markov model\n",
    "for i, word in enumerate(words[:-1]):\n",
    "    next_word[word][words[i + 1]] += 1\n",
    "    word_used[word] += 1\n",
    "\n",
    "# Function to choose the next word safely\n",
    "def choose_next_word(current_word):\n",
    "    possible_words = next_word[current_word]\n",
    "    if not possible_words:\n",
    "        return None  # Return None if no next words are available\n",
    "    total = sum(possible_words.values())\n",
    "    pivot = random.randint(1, total)\n",
    "    cumulative = 0\n",
    "    for word, count in possible_words.items():\n",
    "        cumulative += count\n",
    "        if cumulative >= pivot:\n",
    "            return word\n",
    "\n",
    "# Generating a sentence\n",
    "current_word = \"hello\"\n",
    "sentence = [current_word]\n",
    "\n",
    "for _ in range(10):  # Generate up to 10 more words\n",
    "    current_word = choose_next_word(current_word)\n",
    "    if current_word is None:\n",
    "        break  # Break the loop if no next word is found\n",
    "    sentence.append(current_word)\n",
    "    if current_word[-1] in \".!?\":  # Stopping at the end of a sentence\n",
    "        break\n",
    "\n",
    "print(\" \".join(sentence))\n"
   ]
  },
  {
   "cell_type": "code",
   "execution_count": null,
   "id": "08a88c0f",
   "metadata": {},
   "outputs": [],
   "source": [
    "#Summary for my chatbot (For the question four)\n",
    "\n",
    "https://chatgpt.com/share/66eb8d52-3b00-800b-9e41-e41373cdf89d"
   ]
  },
  {
   "cell_type": "code",
   "execution_count": null,
   "id": "e3f9eba0",
   "metadata": {},
   "outputs": [],
   "source": [
    "#Question 5  Summary for my chatbot\n",
    "\n",
    "https://chatgpt.com/share/66eb8ed9-079c-800b-8b0a-6eb7874da5ff"
   ]
  },
  {
   "cell_type": "markdown",
   "id": "53d839b0",
   "metadata": {},
   "source": [
    "#Question 6\n",
    "\n",
    "1）Basically the bots are able to solve the above problems, they can quickly get what I need, whether it's writing a simpler more concise code or expanding on the original code and giving it different requirements, and can give good answers."
   ]
  },
  {
   "cell_type": "markdown",
   "id": "98a14178",
   "metadata": {},
   "source": [
    "#Question 6\n",
    "\n",
    "2）Chatting with the bot has been generally rewarding, but of course I've encountered instances where it couldn't understand what I was saying, or gave the wrong answer, etc. It may also generate codes that don't connect well with previous conversations, and thus will repeatedly ask me to submit more information to it, etc."
   ]
  },
  {
   "cell_type": "markdown",
   "id": "0991f343",
   "metadata": {},
   "source": [
    "#Question 6\n",
    "\n",
    "3）First of all, it can give me a detailed explanation if I ask it a question about the meaning of a certain code or about the application, which helps me to be able to deal with questions about codes better. Secondly, it can point out the wrong codes and correct them, which is a good feature for us beginners. It can also make changes to the code, which means giving it some new requirements or information to generate a clean version of the code."
   ]
  },
  {
   "cell_type": "markdown",
   "id": "81521aa6",
   "metadata": {},
   "source": [
    "#Question 7\n",
    "\n",
    "In the process of interacting with chatbot, it really helped me a lot, whether it's from finding missing values or some basic arithmetic, it can do it very well. I think AI is constantly advancing in the academic context and the need for scientific AI in this area. At the same time, I believe that AI and statistical science are mutually reinforcing, and that AI advances need to be applied countless times by statistical data and then perfected, while statistical data are greatly facilitated by the use of AI."
   ]
  },
  {
   "cell_type": "markdown",
   "id": "9202032c",
   "metadata": {},
   "source": [
    "#Question 8\n",
    "\n",
    "1）Learning and Adaptability: With the rapid development of contemporary society, analyzing data in the scientific field is indispensable, and naturally, programming and digital applications are also very helpful for future employment. And in the workplace, mastering a skill that others may not be very skilled may lead to more job opportunities, and this ability may also become the cornerstone of other fields.Communication: This programming language is also capable of communicating with others academically and can convey information more accurately.Coding is the most basic use of data analytics, which covers many areas, and mastering programming can be more competitive in the marketplace."
   ]
  },
  {
   "cell_type": "markdown",
   "id": "2a13d495",
   "metadata": {},
   "source": [
    "#Question 8\n",
    "\n",
    "2）My chatbot thinks that coding and data analysis are essential for both careers, meaning that it's the most basic knowledge base. Of course there are other careers that may not require much use of this knowledge, such as Statistical Consultant, but some understanding is required.Quantitative Analysis:\n",
    "Relevance: Essential for analyzing economic data and financial statements, and for making informed decisions based on quantitative data.\n",
    "Skill Development: Consider strengthening your abilities in statistics and econometrics, possibly through advanced courses or certifications."
   ]
  },
  {
   "cell_type": "code",
   "execution_count": null,
   "id": "9dbe9659",
   "metadata": {},
   "outputs": [],
   "source": [
    "#Question 8\n",
    "\n",
    "3）Summary for my chatbot (For the question eight)\n",
    "https://chatgpt.com/share/66eb6edf-20c4-800b-abab-57c25d27b1bc  "
   ]
  },
  {
   "cell_type": "markdown",
   "id": "f773da46",
   "metadata": {},
   "source": [
    "#Question 8\n",
    "\n",
    "4）Reflecting the conversation, the potential future career in data science or economic trading could be both challenging and rewarding. The discussion underscored the necessity of key skills such as coding, data analysis, and quantitative methods, which are integral to these fields. These skills not only enhance job prospects but are crucial for excelling in these roles.\n",
    "\n",
    "Considering the dynamic nature of both fields, continual learning and adaptability emerged as essential traits. This implies a need for ongoing education and skill development, possibly through formal courses or self-directed learning, particularly in emerging technologies and methodologies.\n",
    "\n",
    "Communication also plays a pivotal role, emphasizing the importance of being able to convey complex information effectively, whether in data science or economic trading. This highlights a potential area for personal development, such as enhancing presentation or negotiation skills through targeted training or practice.\n",
    "\n",
    "Risk management and regulatory knowledge were identified as specific to a career in live economy trade, suggesting that understanding these areas could be critical. Pursuing certifications or specific courses could be a strategic move to build these competencies."
   ]
  },
  {
   "cell_type": "code",
   "execution_count": null,
   "id": "e6a36e83",
   "metadata": {},
   "outputs": [],
   "source": [
    "#Question 9\n",
    "\n",
    "Yes"
   ]
  }
 ],
 "metadata": {
  "kernelspec": {
   "display_name": "Python 3 (ipykernel)",
   "language": "python",
   "name": "python3"
  },
  "language_info": {
   "codemirror_mode": {
    "name": "ipython",
    "version": 3
   },
   "file_extension": ".py",
   "mimetype": "text/x-python",
   "name": "python",
   "nbconvert_exporter": "python",
   "pygments_lexer": "ipython3",
   "version": "3.11.6"
  }
 },
 "nbformat": 4,
 "nbformat_minor": 5
}
